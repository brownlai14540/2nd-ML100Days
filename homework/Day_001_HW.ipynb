{
 "cells": [
  {
   "cell_type": "markdown",
   "metadata": {},
   "source": [
    "<h3>#作業1</h3>\n",
    "\n",
    "請上 Kaggle, 在 Competitions 或 Dataset 中找一組競賽或資料並寫下：\n",
    "\n",
    "<ol>\n",
    "<li>你選的這組資料為何重要<br>\n",
    "<br>\n",
    "<li>資料從何而來 (tips: 譬如提供者是誰、以什麼方式蒐集)<br>\n",
    "<br>\n",
    "<li>蒐集而來的資料型態為何<br>\n",
    "<br>\n",
    "<li>這組資料想解決的問題如何評估<br>\n",
    "</ol>"
   ]
  },
  {
   "cell_type": "markdown",
   "metadata": {},
   "source": [
    "<h3>#作答1</h3>\n",
    "\n",
    "選擇資料集: TMDB 5000 Movie Dataset <br>\n",
    "https://www.kaggle.com/tmdb/tmdb-movie-metadata\n",
    "\n",
    "<ol>\n",
    "<li> 電影產業成本非常高，卻往往很難預測實際票房反應。該資料蒐集各大電影之屬性，若可藉由機器學習之幫助，找出票房成功方程式，將可解決投資效率之題。<br>\n",
    "<br>\n",
    "<li> 該資源來自The Movie Database (TMDb)，該網站蒐集了電影的詳盡資料，與知名的IMDB相比，其資料提供更完整的演員名單，且票房收益數字更為準確。此外作為平台也開放網友自由評論及評分，豐富其資料內容。<br>\n",
    "<br>\n",
    "<li> 除了票房收益、網友評分、電影投資成本等數值型態資料外，也包括上映日期等時間型態資料、以及演員名單、電影敘述等文字型態資料。<br>\n",
    "<br>\n",
    "<li> 預測實際票房收益為迴歸類型的問題，可以模型的SSE、MSE，RMSE，MAE、R-Squared等為指標，進行成效評估。\n",
    "</ol>"
   ]
  },
  {
   "cell_type": "markdown",
   "metadata": {},
   "source": [
    "<h3>#作業2</h3>\n",
    "\n",
    "想像你經營一個自由載客車隊，你希望能透過數據分析以提升業績，請你思考並描述你如何規劃整體的分析/解決方案：\n",
    "\n",
    "<ol>\n",
    "<li>核心問題為何 (tips：如何定義 「提升業績 & 你的假設」)<br>\n",
    "<br>\n",
    "<li>資料從何而來 (tips：哪些資料可能會對你想問的問題產生影響 & 資料如何蒐集)<br>\n",
    "<br>\n",
    "<li>蒐集而來的資料型態為何<br>\n",
    "<br>\n",
    "<li>你要回答的問題，其如何評估 (tips：你的假設如何驗證)\n",
    "</ol>"
   ]
  },
  {
   "cell_type": "markdown",
   "metadata": {},
   "source": [
    "<h3>#作答2</h3>\n",
    "\n",
    "<ol>\n",
    "<li>租賃車隊常遇到狀況的是司機無法正確預測會有需求的地方，太熱門的交通熱區又會出現大量排隊的情況，造成效率低落的問題。利用數據分析預測可能出現大量客源的地點，進行租賃車候車地點建議。同時依租賃車所在位置，進行供給調配，當供給過量時，可以將部分司機配往其他有需求的地點。降低車隊租賃車的空車率以達成提升業績的目標。<br>\n",
    "<br>\n",
    "<li>如果此車隊具有叫車APP，蒐集APP的叫車記錄及司機的載客記錄。整合外部社群網站、活動報名網等，利用爬蟲蒐集地區活動及參與人數資訊。<br>\n",
    "<br>\n",
    "<li>Location Base的結構化資料<br>\n",
    "<br>\n",
    "<li>以車隊的整體空車率為指標，檢視是否降低空車率以提升業績。<br>\n",
    "<br>\n",
    "</ol>"
   ]
  },
  {
   "cell_type": "markdown",
   "metadata": {},
   "source": [
    "<h3>#作業3</h3>\n",
    "\n",
    "請點選下方檢視範例依照 Day_001_example_of_metrics.ipynb 完成 Mean Squared Error 的函式\n",
    "\n",
    "資料夾結構建立規則提醒：2nd-ML100Days > data資料夾 & homework資料夾 (ipynb檔) \n",
    "\n",
    "(請注意data的存放位置，建議放在*.ipynb 同一個目錄下，這樣才能在不修改code的情況下正常執行)"
   ]
  },
  {
   "cell_type": "markdown",
   "metadata": {},
   "source": [
    "<h3>#作答3</h3>"
   ]
  },
  {
   "cell_type": "code",
   "execution_count": 3,
   "metadata": {},
   "outputs": [],
   "source": [
    "#產生題目資料\n",
    "\n",
    "import numpy as np\n",
    "\n",
    "w = 3\n",
    "b = 0.5\n",
    "x_lin = np.linspace(0, 100, 101)\n",
    "y = (x_lin + np.random.randn(101) * 5) * w + b\n",
    "y_hat = x_lin * w + b"
   ]
  },
  {
   "cell_type": "markdown",
   "metadata": {},
   "source": [
    "#### 請寫一個函式用來計算 Mean Square Error\n",
    "$ MSE = \\frac{1}{n}\\sum_{i=1}^{n}{(Y_i - \\hat{Y}_i)^2} $"
   ]
  },
  {
   "cell_type": "code",
   "execution_count": 4,
   "metadata": {},
   "outputs": [],
   "source": [
    "def mean_square_error(y, yp):\n",
    "    mse = sum((y - yp) ** 2) / len(y)\n",
    "    return mse"
   ]
  },
  {
   "cell_type": "code",
   "execution_count": 5,
   "metadata": {},
   "outputs": [
    {
     "data": {
      "text/plain": [
       "251.39395651448177"
      ]
     },
     "execution_count": 5,
     "metadata": {},
     "output_type": "execute_result"
    }
   ],
   "source": [
    "mean_square_error(y, y_hat)"
   ]
  }
 ],
 "metadata": {
  "kernelspec": {
   "display_name": "Python 3",
   "language": "python",
   "name": "python3"
  },
  "language_info": {
   "codemirror_mode": {
    "name": "ipython",
    "version": 3
   },
   "file_extension": ".py",
   "mimetype": "text/x-python",
   "name": "python",
   "nbconvert_exporter": "python",
   "pygments_lexer": "ipython3",
   "version": "3.7.3"
  }
 },
 "nbformat": 4,
 "nbformat_minor": 2
}
